{
 "cells": [
  {
   "cell_type": "code",
   "execution_count": 165,
   "metadata": {},
   "outputs": [],
   "source": [
    "from os.path import join, dirname, exists\n",
    "import warnings\n",
    "import pandas as pd\n",
    "import numpy as np\n",
    "\n",
    "import matplotlib.pyplot as plt\n",
    "%matplotlib inline\n",
    "import seaborn as sns"
   ]
  },
  {
   "cell_type": "markdown",
   "metadata": {},
   "source": [
    "### Data loading"
   ]
  },
  {
   "cell_type": "code",
   "execution_count": 6,
   "metadata": {},
   "outputs": [],
   "source": [
    "DATA_DIR = 'data'"
   ]
  },
  {
   "cell_type": "code",
   "execution_count": 7,
   "metadata": {},
   "outputs": [],
   "source": [
    "main_train_f = join(DATA_DIR, 'application_train.csv')\n",
    "main_test_f = join(DATA_DIR, 'application_test.csv')"
   ]
  },
  {
   "cell_type": "code",
   "execution_count": 8,
   "metadata": {},
   "outputs": [],
   "source": [
    "df_main_train = pd.read_csv(main_train_f)"
   ]
  },
  {
   "cell_type": "code",
   "execution_count": 9,
   "metadata": {},
   "outputs": [],
   "source": [
    "df_main_test = pd.read_csv(main_test_f)"
   ]
  },
  {
   "cell_type": "markdown",
   "metadata": {},
   "source": [
    "### Utils"
   ]
  },
  {
   "cell_type": "code",
   "execution_count": 148,
   "metadata": {},
   "outputs": [],
   "source": [
    "def get_rare_values(df, col, thresh = 0.005):\n",
    "    vc = df[col].value_counts()\n",
    "    return set(vc.index[vc/df_main_train.shape[0] < thresh])"
   ]
  },
  {
   "cell_type": "markdown",
   "metadata": {},
   "source": [
    "### Data analisys"
   ]
  },
  {
   "cell_type": "code",
   "execution_count": 13,
   "metadata": {},
   "outputs": [
    {
     "data": {
      "text/plain": [
       "(307511, 122)"
      ]
     },
     "execution_count": 13,
     "metadata": {},
     "output_type": "execute_result"
    }
   ],
   "source": [
    "df_main_train.shape"
   ]
  },
  {
   "cell_type": "code",
   "execution_count": 14,
   "metadata": {},
   "outputs": [
    {
     "data": {
      "text/plain": [
       "(48744, 121)"
      ]
     },
     "execution_count": 14,
     "metadata": {},
     "output_type": "execute_result"
    }
   ],
   "source": [
    "df_main_test.shape"
   ]
  },
  {
   "cell_type": "code",
   "execution_count": 15,
   "metadata": {},
   "outputs": [
    {
     "data": {
      "text/html": [
       "<div>\n",
       "<style>\n",
       "    .dataframe thead tr:only-child th {\n",
       "        text-align: right;\n",
       "    }\n",
       "\n",
       "    .dataframe thead th {\n",
       "        text-align: left;\n",
       "    }\n",
       "\n",
       "    .dataframe tbody tr th {\n",
       "        vertical-align: top;\n",
       "    }\n",
       "</style>\n",
       "<table border=\"1\" class=\"dataframe\">\n",
       "  <thead>\n",
       "    <tr style=\"text-align: right;\">\n",
       "      <th></th>\n",
       "      <th>SK_ID_CURR</th>\n",
       "      <th>TARGET</th>\n",
       "      <th>CNT_CHILDREN</th>\n",
       "      <th>AMT_INCOME_TOTAL</th>\n",
       "      <th>AMT_CREDIT</th>\n",
       "      <th>AMT_ANNUITY</th>\n",
       "      <th>AMT_GOODS_PRICE</th>\n",
       "      <th>REGION_POPULATION_RELATIVE</th>\n",
       "      <th>DAYS_BIRTH</th>\n",
       "      <th>DAYS_EMPLOYED</th>\n",
       "      <th>...</th>\n",
       "      <th>FLAG_DOCUMENT_18</th>\n",
       "      <th>FLAG_DOCUMENT_19</th>\n",
       "      <th>FLAG_DOCUMENT_20</th>\n",
       "      <th>FLAG_DOCUMENT_21</th>\n",
       "      <th>AMT_REQ_CREDIT_BUREAU_HOUR</th>\n",
       "      <th>AMT_REQ_CREDIT_BUREAU_DAY</th>\n",
       "      <th>AMT_REQ_CREDIT_BUREAU_WEEK</th>\n",
       "      <th>AMT_REQ_CREDIT_BUREAU_MON</th>\n",
       "      <th>AMT_REQ_CREDIT_BUREAU_QRT</th>\n",
       "      <th>AMT_REQ_CREDIT_BUREAU_YEAR</th>\n",
       "    </tr>\n",
       "  </thead>\n",
       "  <tbody>\n",
       "    <tr>\n",
       "      <th>count</th>\n",
       "      <td>307511.000000</td>\n",
       "      <td>307511.000000</td>\n",
       "      <td>307511.000000</td>\n",
       "      <td>3.075110e+05</td>\n",
       "      <td>3.075110e+05</td>\n",
       "      <td>307499.000000</td>\n",
       "      <td>3.072330e+05</td>\n",
       "      <td>307511.000000</td>\n",
       "      <td>307511.000000</td>\n",
       "      <td>307511.000000</td>\n",
       "      <td>...</td>\n",
       "      <td>307511.000000</td>\n",
       "      <td>307511.000000</td>\n",
       "      <td>307511.000000</td>\n",
       "      <td>307511.000000</td>\n",
       "      <td>265992.000000</td>\n",
       "      <td>265992.000000</td>\n",
       "      <td>265992.000000</td>\n",
       "      <td>265992.000000</td>\n",
       "      <td>265992.000000</td>\n",
       "      <td>265992.000000</td>\n",
       "    </tr>\n",
       "    <tr>\n",
       "      <th>mean</th>\n",
       "      <td>278180.518577</td>\n",
       "      <td>0.080729</td>\n",
       "      <td>0.417052</td>\n",
       "      <td>1.687979e+05</td>\n",
       "      <td>5.990260e+05</td>\n",
       "      <td>27108.573909</td>\n",
       "      <td>5.383962e+05</td>\n",
       "      <td>0.020868</td>\n",
       "      <td>-16036.995067</td>\n",
       "      <td>63815.045904</td>\n",
       "      <td>...</td>\n",
       "      <td>0.008130</td>\n",
       "      <td>0.000595</td>\n",
       "      <td>0.000507</td>\n",
       "      <td>0.000335</td>\n",
       "      <td>0.006402</td>\n",
       "      <td>0.007000</td>\n",
       "      <td>0.034362</td>\n",
       "      <td>0.267395</td>\n",
       "      <td>0.265474</td>\n",
       "      <td>1.899974</td>\n",
       "    </tr>\n",
       "    <tr>\n",
       "      <th>std</th>\n",
       "      <td>102790.175348</td>\n",
       "      <td>0.272419</td>\n",
       "      <td>0.722121</td>\n",
       "      <td>2.371231e+05</td>\n",
       "      <td>4.024908e+05</td>\n",
       "      <td>14493.737315</td>\n",
       "      <td>3.694465e+05</td>\n",
       "      <td>0.013831</td>\n",
       "      <td>4363.988632</td>\n",
       "      <td>141275.766519</td>\n",
       "      <td>...</td>\n",
       "      <td>0.089798</td>\n",
       "      <td>0.024387</td>\n",
       "      <td>0.022518</td>\n",
       "      <td>0.018299</td>\n",
       "      <td>0.083849</td>\n",
       "      <td>0.110757</td>\n",
       "      <td>0.204685</td>\n",
       "      <td>0.916002</td>\n",
       "      <td>0.794056</td>\n",
       "      <td>1.869295</td>\n",
       "    </tr>\n",
       "    <tr>\n",
       "      <th>min</th>\n",
       "      <td>100002.000000</td>\n",
       "      <td>0.000000</td>\n",
       "      <td>0.000000</td>\n",
       "      <td>2.565000e+04</td>\n",
       "      <td>4.500000e+04</td>\n",
       "      <td>1615.500000</td>\n",
       "      <td>4.050000e+04</td>\n",
       "      <td>0.000290</td>\n",
       "      <td>-25229.000000</td>\n",
       "      <td>-17912.000000</td>\n",
       "      <td>...</td>\n",
       "      <td>0.000000</td>\n",
       "      <td>0.000000</td>\n",
       "      <td>0.000000</td>\n",
       "      <td>0.000000</td>\n",
       "      <td>0.000000</td>\n",
       "      <td>0.000000</td>\n",
       "      <td>0.000000</td>\n",
       "      <td>0.000000</td>\n",
       "      <td>0.000000</td>\n",
       "      <td>0.000000</td>\n",
       "    </tr>\n",
       "    <tr>\n",
       "      <th>25%</th>\n",
       "      <td>189145.500000</td>\n",
       "      <td>0.000000</td>\n",
       "      <td>0.000000</td>\n",
       "      <td>1.125000e+05</td>\n",
       "      <td>2.700000e+05</td>\n",
       "      <td>16524.000000</td>\n",
       "      <td>2.385000e+05</td>\n",
       "      <td>0.010006</td>\n",
       "      <td>-19682.000000</td>\n",
       "      <td>-2760.000000</td>\n",
       "      <td>...</td>\n",
       "      <td>0.000000</td>\n",
       "      <td>0.000000</td>\n",
       "      <td>0.000000</td>\n",
       "      <td>0.000000</td>\n",
       "      <td>0.000000</td>\n",
       "      <td>0.000000</td>\n",
       "      <td>0.000000</td>\n",
       "      <td>0.000000</td>\n",
       "      <td>0.000000</td>\n",
       "      <td>0.000000</td>\n",
       "    </tr>\n",
       "    <tr>\n",
       "      <th>50%</th>\n",
       "      <td>278202.000000</td>\n",
       "      <td>0.000000</td>\n",
       "      <td>0.000000</td>\n",
       "      <td>1.471500e+05</td>\n",
       "      <td>5.135310e+05</td>\n",
       "      <td>24903.000000</td>\n",
       "      <td>4.500000e+05</td>\n",
       "      <td>0.018850</td>\n",
       "      <td>-15750.000000</td>\n",
       "      <td>-1213.000000</td>\n",
       "      <td>...</td>\n",
       "      <td>0.000000</td>\n",
       "      <td>0.000000</td>\n",
       "      <td>0.000000</td>\n",
       "      <td>0.000000</td>\n",
       "      <td>0.000000</td>\n",
       "      <td>0.000000</td>\n",
       "      <td>0.000000</td>\n",
       "      <td>0.000000</td>\n",
       "      <td>0.000000</td>\n",
       "      <td>1.000000</td>\n",
       "    </tr>\n",
       "    <tr>\n",
       "      <th>75%</th>\n",
       "      <td>367142.500000</td>\n",
       "      <td>0.000000</td>\n",
       "      <td>1.000000</td>\n",
       "      <td>2.025000e+05</td>\n",
       "      <td>8.086500e+05</td>\n",
       "      <td>34596.000000</td>\n",
       "      <td>6.795000e+05</td>\n",
       "      <td>0.028663</td>\n",
       "      <td>-12413.000000</td>\n",
       "      <td>-289.000000</td>\n",
       "      <td>...</td>\n",
       "      <td>0.000000</td>\n",
       "      <td>0.000000</td>\n",
       "      <td>0.000000</td>\n",
       "      <td>0.000000</td>\n",
       "      <td>0.000000</td>\n",
       "      <td>0.000000</td>\n",
       "      <td>0.000000</td>\n",
       "      <td>0.000000</td>\n",
       "      <td>0.000000</td>\n",
       "      <td>3.000000</td>\n",
       "    </tr>\n",
       "    <tr>\n",
       "      <th>max</th>\n",
       "      <td>456255.000000</td>\n",
       "      <td>1.000000</td>\n",
       "      <td>19.000000</td>\n",
       "      <td>1.170000e+08</td>\n",
       "      <td>4.050000e+06</td>\n",
       "      <td>258025.500000</td>\n",
       "      <td>4.050000e+06</td>\n",
       "      <td>0.072508</td>\n",
       "      <td>-7489.000000</td>\n",
       "      <td>365243.000000</td>\n",
       "      <td>...</td>\n",
       "      <td>1.000000</td>\n",
       "      <td>1.000000</td>\n",
       "      <td>1.000000</td>\n",
       "      <td>1.000000</td>\n",
       "      <td>4.000000</td>\n",
       "      <td>9.000000</td>\n",
       "      <td>8.000000</td>\n",
       "      <td>27.000000</td>\n",
       "      <td>261.000000</td>\n",
       "      <td>25.000000</td>\n",
       "    </tr>\n",
       "  </tbody>\n",
       "</table>\n",
       "<p>8 rows × 106 columns</p>\n",
       "</div>"
      ],
      "text/plain": [
       "          SK_ID_CURR         TARGET   CNT_CHILDREN  AMT_INCOME_TOTAL  \\\n",
       "count  307511.000000  307511.000000  307511.000000      3.075110e+05   \n",
       "mean   278180.518577       0.080729       0.417052      1.687979e+05   \n",
       "std    102790.175348       0.272419       0.722121      2.371231e+05   \n",
       "min    100002.000000       0.000000       0.000000      2.565000e+04   \n",
       "25%    189145.500000       0.000000       0.000000      1.125000e+05   \n",
       "50%    278202.000000       0.000000       0.000000      1.471500e+05   \n",
       "75%    367142.500000       0.000000       1.000000      2.025000e+05   \n",
       "max    456255.000000       1.000000      19.000000      1.170000e+08   \n",
       "\n",
       "         AMT_CREDIT    AMT_ANNUITY  AMT_GOODS_PRICE  \\\n",
       "count  3.075110e+05  307499.000000     3.072330e+05   \n",
       "mean   5.990260e+05   27108.573909     5.383962e+05   \n",
       "std    4.024908e+05   14493.737315     3.694465e+05   \n",
       "min    4.500000e+04    1615.500000     4.050000e+04   \n",
       "25%    2.700000e+05   16524.000000     2.385000e+05   \n",
       "50%    5.135310e+05   24903.000000     4.500000e+05   \n",
       "75%    8.086500e+05   34596.000000     6.795000e+05   \n",
       "max    4.050000e+06  258025.500000     4.050000e+06   \n",
       "\n",
       "       REGION_POPULATION_RELATIVE     DAYS_BIRTH  DAYS_EMPLOYED  \\\n",
       "count               307511.000000  307511.000000  307511.000000   \n",
       "mean                     0.020868  -16036.995067   63815.045904   \n",
       "std                      0.013831    4363.988632  141275.766519   \n",
       "min                      0.000290  -25229.000000  -17912.000000   \n",
       "25%                      0.010006  -19682.000000   -2760.000000   \n",
       "50%                      0.018850  -15750.000000   -1213.000000   \n",
       "75%                      0.028663  -12413.000000    -289.000000   \n",
       "max                      0.072508   -7489.000000  365243.000000   \n",
       "\n",
       "                  ...              FLAG_DOCUMENT_18  FLAG_DOCUMENT_19  \\\n",
       "count             ...                 307511.000000     307511.000000   \n",
       "mean              ...                      0.008130          0.000595   \n",
       "std               ...                      0.089798          0.024387   \n",
       "min               ...                      0.000000          0.000000   \n",
       "25%               ...                      0.000000          0.000000   \n",
       "50%               ...                      0.000000          0.000000   \n",
       "75%               ...                      0.000000          0.000000   \n",
       "max               ...                      1.000000          1.000000   \n",
       "\n",
       "       FLAG_DOCUMENT_20  FLAG_DOCUMENT_21  AMT_REQ_CREDIT_BUREAU_HOUR  \\\n",
       "count     307511.000000     307511.000000               265992.000000   \n",
       "mean           0.000507          0.000335                    0.006402   \n",
       "std            0.022518          0.018299                    0.083849   \n",
       "min            0.000000          0.000000                    0.000000   \n",
       "25%            0.000000          0.000000                    0.000000   \n",
       "50%            0.000000          0.000000                    0.000000   \n",
       "75%            0.000000          0.000000                    0.000000   \n",
       "max            1.000000          1.000000                    4.000000   \n",
       "\n",
       "       AMT_REQ_CREDIT_BUREAU_DAY  AMT_REQ_CREDIT_BUREAU_WEEK  \\\n",
       "count              265992.000000               265992.000000   \n",
       "mean                    0.007000                    0.034362   \n",
       "std                     0.110757                    0.204685   \n",
       "min                     0.000000                    0.000000   \n",
       "25%                     0.000000                    0.000000   \n",
       "50%                     0.000000                    0.000000   \n",
       "75%                     0.000000                    0.000000   \n",
       "max                     9.000000                    8.000000   \n",
       "\n",
       "       AMT_REQ_CREDIT_BUREAU_MON  AMT_REQ_CREDIT_BUREAU_QRT  \\\n",
       "count              265992.000000              265992.000000   \n",
       "mean                    0.267395                   0.265474   \n",
       "std                     0.916002                   0.794056   \n",
       "min                     0.000000                   0.000000   \n",
       "25%                     0.000000                   0.000000   \n",
       "50%                     0.000000                   0.000000   \n",
       "75%                     0.000000                   0.000000   \n",
       "max                    27.000000                 261.000000   \n",
       "\n",
       "       AMT_REQ_CREDIT_BUREAU_YEAR  \n",
       "count               265992.000000  \n",
       "mean                     1.899974  \n",
       "std                      1.869295  \n",
       "min                      0.000000  \n",
       "25%                      0.000000  \n",
       "50%                      1.000000  \n",
       "75%                      3.000000  \n",
       "max                     25.000000  \n",
       "\n",
       "[8 rows x 106 columns]"
      ]
     },
     "execution_count": 15,
     "metadata": {},
     "output_type": "execute_result"
    }
   ],
   "source": [
    "df_main_train.describe()"
   ]
  },
  {
   "cell_type": "code",
   "execution_count": 88,
   "metadata": {},
   "outputs": [
    {
     "data": {
      "text/html": [
       "<div>\n",
       "<style>\n",
       "    .dataframe thead tr:only-child th {\n",
       "        text-align: right;\n",
       "    }\n",
       "\n",
       "    .dataframe thead th {\n",
       "        text-align: left;\n",
       "    }\n",
       "\n",
       "    .dataframe tbody tr th {\n",
       "        vertical-align: top;\n",
       "    }\n",
       "</style>\n",
       "<table border=\"1\" class=\"dataframe\">\n",
       "  <thead>\n",
       "    <tr style=\"text-align: right;\">\n",
       "      <th></th>\n",
       "      <th>NAME_CONTRACT_TYPE</th>\n",
       "      <th>CODE_GENDER</th>\n",
       "      <th>FLAG_OWN_CAR</th>\n",
       "      <th>FLAG_OWN_REALTY</th>\n",
       "      <th>NAME_TYPE_SUITE</th>\n",
       "      <th>NAME_INCOME_TYPE</th>\n",
       "      <th>NAME_EDUCATION_TYPE</th>\n",
       "      <th>NAME_FAMILY_STATUS</th>\n",
       "      <th>NAME_HOUSING_TYPE</th>\n",
       "      <th>OCCUPATION_TYPE</th>\n",
       "      <th>WEEKDAY_APPR_PROCESS_START</th>\n",
       "      <th>ORGANIZATION_TYPE</th>\n",
       "      <th>FONDKAPREMONT_MODE</th>\n",
       "      <th>HOUSETYPE_MODE</th>\n",
       "      <th>WALLSMATERIAL_MODE</th>\n",
       "      <th>EMERGENCYSTATE_MODE</th>\n",
       "    </tr>\n",
       "  </thead>\n",
       "  <tbody>\n",
       "    <tr>\n",
       "      <th>count</th>\n",
       "      <td>307511</td>\n",
       "      <td>307511</td>\n",
       "      <td>307511</td>\n",
       "      <td>307511</td>\n",
       "      <td>306219</td>\n",
       "      <td>307511</td>\n",
       "      <td>307511</td>\n",
       "      <td>307511</td>\n",
       "      <td>307511</td>\n",
       "      <td>211120</td>\n",
       "      <td>307511</td>\n",
       "      <td>307511</td>\n",
       "      <td>97216</td>\n",
       "      <td>153214</td>\n",
       "      <td>151170</td>\n",
       "      <td>161756</td>\n",
       "    </tr>\n",
       "    <tr>\n",
       "      <th>unique</th>\n",
       "      <td>2</td>\n",
       "      <td>3</td>\n",
       "      <td>2</td>\n",
       "      <td>2</td>\n",
       "      <td>7</td>\n",
       "      <td>8</td>\n",
       "      <td>5</td>\n",
       "      <td>6</td>\n",
       "      <td>6</td>\n",
       "      <td>18</td>\n",
       "      <td>7</td>\n",
       "      <td>58</td>\n",
       "      <td>4</td>\n",
       "      <td>3</td>\n",
       "      <td>7</td>\n",
       "      <td>2</td>\n",
       "    </tr>\n",
       "    <tr>\n",
       "      <th>top</th>\n",
       "      <td>Cash loans</td>\n",
       "      <td>F</td>\n",
       "      <td>N</td>\n",
       "      <td>Y</td>\n",
       "      <td>Unaccompanied</td>\n",
       "      <td>Working</td>\n",
       "      <td>Secondary / secondary special</td>\n",
       "      <td>Married</td>\n",
       "      <td>House / apartment</td>\n",
       "      <td>Laborers</td>\n",
       "      <td>TUESDAY</td>\n",
       "      <td>Business Entity Type 3</td>\n",
       "      <td>reg oper account</td>\n",
       "      <td>block of flats</td>\n",
       "      <td>Panel</td>\n",
       "      <td>No</td>\n",
       "    </tr>\n",
       "    <tr>\n",
       "      <th>freq</th>\n",
       "      <td>278232</td>\n",
       "      <td>202448</td>\n",
       "      <td>202924</td>\n",
       "      <td>213312</td>\n",
       "      <td>248526</td>\n",
       "      <td>158774</td>\n",
       "      <td>218391</td>\n",
       "      <td>196432</td>\n",
       "      <td>272868</td>\n",
       "      <td>55186</td>\n",
       "      <td>53901</td>\n",
       "      <td>67992</td>\n",
       "      <td>73830</td>\n",
       "      <td>150503</td>\n",
       "      <td>66040</td>\n",
       "      <td>159428</td>\n",
       "    </tr>\n",
       "  </tbody>\n",
       "</table>\n",
       "</div>"
      ],
      "text/plain": [
       "       NAME_CONTRACT_TYPE CODE_GENDER FLAG_OWN_CAR FLAG_OWN_REALTY  \\\n",
       "count              307511      307511       307511          307511   \n",
       "unique                  2           3            2               2   \n",
       "top            Cash loans           F            N               Y   \n",
       "freq               278232      202448       202924          213312   \n",
       "\n",
       "       NAME_TYPE_SUITE NAME_INCOME_TYPE            NAME_EDUCATION_TYPE  \\\n",
       "count           306219           307511                         307511   \n",
       "unique               7                8                              5   \n",
       "top      Unaccompanied          Working  Secondary / secondary special   \n",
       "freq            248526           158774                         218391   \n",
       "\n",
       "       NAME_FAMILY_STATUS  NAME_HOUSING_TYPE OCCUPATION_TYPE  \\\n",
       "count              307511             307511          211120   \n",
       "unique                  6                  6              18   \n",
       "top               Married  House / apartment        Laborers   \n",
       "freq               196432             272868           55186   \n",
       "\n",
       "       WEEKDAY_APPR_PROCESS_START       ORGANIZATION_TYPE FONDKAPREMONT_MODE  \\\n",
       "count                      307511                  307511              97216   \n",
       "unique                          7                      58                  4   \n",
       "top                       TUESDAY  Business Entity Type 3   reg oper account   \n",
       "freq                        53901                   67992              73830   \n",
       "\n",
       "        HOUSETYPE_MODE WALLSMATERIAL_MODE EMERGENCYSTATE_MODE  \n",
       "count           153214             151170              161756  \n",
       "unique               3                  7                   2  \n",
       "top     block of flats              Panel                  No  \n",
       "freq            150503              66040              159428  "
      ]
     },
     "execution_count": 88,
     "metadata": {},
     "output_type": "execute_result"
    }
   ],
   "source": [
    "df_main_train.describe(include=['object', 'bool'])"
   ]
  },
  {
   "cell_type": "code",
   "execution_count": 39,
   "metadata": {},
   "outputs": [],
   "source": [
    "columns_with_nulls = list(df_main_train.columns[df_main_train.isnull().sum() != 0])"
   ]
  },
  {
   "cell_type": "markdown",
   "metadata": {},
   "source": [
    "###  Object columns"
   ]
  },
  {
   "cell_type": "code",
   "execution_count": 320,
   "metadata": {},
   "outputs": [],
   "source": [
    "def show_cat_info(df, col):\n",
    "    print(col)\n",
    "    print('\\nValue counts, train dataset:\\n')\n",
    "    print(df_main_train[col].value_counts())\n",
    "    print('\\nCount pecentage, train dataset:\\n')\n",
    "    print(df_main_train[col].value_counts()/df_main_train.shape[0])\n",
    "    print('\\nUnique values in test dataset:\\n')\n",
    "    print(list(df_main_test[col].unique()))\n",
    "    print('\\nNumber of null values: {}'.format(df_main_train[col].isnull().sum()))\n",
    "    \n",
    "    "
   ]
  },
  {
   "cell_type": "code",
   "execution_count": 143,
   "metadata": {},
   "outputs": [],
   "source": [
    "binary_mapper = {}\n",
    "categorical_mapper = {}"
   ]
  },
  {
   "cell_type": "code",
   "execution_count": 64,
   "metadata": {},
   "outputs": [
    {
     "data": {
      "text/plain": [
       "['NAME_CONTRACT_TYPE',\n",
       " 'CODE_GENDER',\n",
       " 'FLAG_OWN_CAR',\n",
       " 'FLAG_OWN_REALTY',\n",
       " 'NAME_TYPE_SUITE',\n",
       " 'NAME_INCOME_TYPE',\n",
       " 'NAME_EDUCATION_TYPE',\n",
       " 'NAME_FAMILY_STATUS',\n",
       " 'NAME_HOUSING_TYPE',\n",
       " 'OCCUPATION_TYPE',\n",
       " 'WEEKDAY_APPR_PROCESS_START',\n",
       " 'ORGANIZATION_TYPE',\n",
       " 'FONDKAPREMONT_MODE',\n",
       " 'HOUSETYPE_MODE',\n",
       " 'WALLSMATERIAL_MODE',\n",
       " 'EMERGENCYSTATE_MODE']"
      ]
     },
     "execution_count": 64,
     "metadata": {},
     "output_type": "execute_result"
    }
   ],
   "source": [
    "list(df_main_train.columns[df_main_train.dtypes == object])"
   ]
  },
  {
   "cell_type": "markdown",
   "metadata": {},
   "source": [
    "#### 'NAME_CONTRACT_TYPE'"
   ]
  },
  {
   "cell_type": "code",
   "execution_count": 321,
   "metadata": {},
   "outputs": [
    {
     "name": "stdout",
     "output_type": "stream",
     "text": [
      "NAME_CONTRACT_TYPE\n",
      "\n",
      "Value counts, train dataset:\n",
      "\n",
      "Cash loans         278232\n",
      "Revolving loans     29279\n",
      "Name: NAME_CONTRACT_TYPE, dtype: int64\n",
      "\n",
      "Count pecentage, train dataset:\n",
      "\n",
      "Cash loans         0.904787\n",
      "Revolving loans    0.095213\n",
      "Name: NAME_CONTRACT_TYPE, dtype: float64\n",
      "\n",
      "Unique values in test dataset:\n",
      "\n",
      "['Cash loans', 'Revolving loans']\n",
      "\n",
      "Number of null values: 0\n"
     ]
    }
   ],
   "source": [
    "show_cat_info(df_main_train, 'NAME_CONTRACT_TYPE')"
   ]
  },
  {
   "cell_type": "code",
   "execution_count": 322,
   "metadata": {},
   "outputs": [],
   "source": [
    "binary_mapper['NAME_CONTRACT_TYPE'] =  {\"Cash loans\": 1, \"Revolving loans\": 0}"
   ]
  },
  {
   "cell_type": "markdown",
   "metadata": {},
   "source": [
    "#### 'CODE_GENDER'"
   ]
  },
  {
   "cell_type": "code",
   "execution_count": 323,
   "metadata": {},
   "outputs": [
    {
     "name": "stdout",
     "output_type": "stream",
     "text": [
      "CODE_GENDER\n",
      "\n",
      "Value counts, train dataset:\n",
      "\n",
      "F      202448\n",
      "M      105059\n",
      "XNA         4\n",
      "Name: CODE_GENDER, dtype: int64\n",
      "\n",
      "Count pecentage, train dataset:\n",
      "\n",
      "F      0.658344\n",
      "M      0.341643\n",
      "XNA    0.000013\n",
      "Name: CODE_GENDER, dtype: float64\n",
      "\n",
      "Unique values in test dataset:\n",
      "\n",
      "['F', 'M']\n",
      "\n",
      "Number of null values: 0\n"
     ]
    }
   ],
   "source": [
    "show_cat_info(df_main_train, 'CODE_GENDER')"
   ]
  },
  {
   "cell_type": "code",
   "execution_count": 324,
   "metadata": {},
   "outputs": [],
   "source": [
    "# Map XNA as major F\n",
    "binary_mapper['CODE_GENDER'] =  {'M': 1, 'F': 0, 'XNA':0}"
   ]
  },
  {
   "cell_type": "markdown",
   "metadata": {},
   "source": [
    "#### 'FLAG_OWN_CAR'"
   ]
  },
  {
   "cell_type": "code",
   "execution_count": 325,
   "metadata": {},
   "outputs": [
    {
     "name": "stdout",
     "output_type": "stream",
     "text": [
      "FLAG_OWN_CAR\n",
      "\n",
      "Value counts, train dataset:\n",
      "\n",
      "N    202924\n",
      "Y    104587\n",
      "Name: FLAG_OWN_CAR, dtype: int64\n",
      "\n",
      "Count pecentage, train dataset:\n",
      "\n",
      "N    0.659892\n",
      "Y    0.340108\n",
      "Name: FLAG_OWN_CAR, dtype: float64\n",
      "\n",
      "Unique values in test dataset:\n",
      "\n",
      "['N', 'Y']\n",
      "\n",
      "Number of null values: 0\n"
     ]
    }
   ],
   "source": [
    "show_cat_info(df_main_train, 'FLAG_OWN_CAR')"
   ]
  },
  {
   "cell_type": "code",
   "execution_count": 326,
   "metadata": {},
   "outputs": [],
   "source": [
    "binary_mapper['FLAG_OWN_CAR'] =  {'Y': 1, 'N': 0}"
   ]
  },
  {
   "cell_type": "markdown",
   "metadata": {},
   "source": [
    "#### FLAG_OWN_REALTY"
   ]
  },
  {
   "cell_type": "code",
   "execution_count": 327,
   "metadata": {},
   "outputs": [
    {
     "name": "stdout",
     "output_type": "stream",
     "text": [
      "FLAG_OWN_REALTY\n",
      "\n",
      "Value counts, train dataset:\n",
      "\n",
      "Y    213312\n",
      "N     94199\n",
      "Name: FLAG_OWN_REALTY, dtype: int64\n",
      "\n",
      "Count pecentage, train dataset:\n",
      "\n",
      "Y    0.693673\n",
      "N    0.306327\n",
      "Name: FLAG_OWN_REALTY, dtype: float64\n",
      "\n",
      "Unique values in test dataset:\n",
      "\n",
      "['Y', 'N']\n",
      "\n",
      "Number of null values: 0\n"
     ]
    }
   ],
   "source": [
    "show_cat_info(df_main_train, 'FLAG_OWN_REALTY')"
   ]
  },
  {
   "cell_type": "code",
   "execution_count": 328,
   "metadata": {},
   "outputs": [],
   "source": [
    "binary_mapper['FLAG_OWN_REALTY'] =  {'Y': 1, 'N': 0}"
   ]
  },
  {
   "cell_type": "markdown",
   "metadata": {},
   "source": [
    "#### 'NAME_TYPE_SUITE'"
   ]
  },
  {
   "cell_type": "code",
   "execution_count": 329,
   "metadata": {},
   "outputs": [
    {
     "name": "stdout",
     "output_type": "stream",
     "text": [
      "NAME_TYPE_SUITE\n",
      "\n",
      "Value counts, train dataset:\n",
      "\n",
      "Unaccompanied      248526\n",
      "Family              40149\n",
      "Spouse, partner     11370\n",
      "Children             3267\n",
      "Other_B              1770\n",
      "Other_A               866\n",
      "Group of people       271\n",
      "Name: NAME_TYPE_SUITE, dtype: int64\n",
      "\n",
      "Count pecentage, train dataset:\n",
      "\n",
      "Unaccompanied      0.808186\n",
      "Family             0.130561\n",
      "Spouse, partner    0.036974\n",
      "Children           0.010624\n",
      "Other_B            0.005756\n",
      "Other_A            0.002816\n",
      "Group of people    0.000881\n",
      "Name: NAME_TYPE_SUITE, dtype: float64\n",
      "\n",
      "Unique values in test dataset:\n",
      "\n",
      "['Unaccompanied', nan, 'Family', 'Spouse, partner', 'Group of people', 'Other_B', 'Children', 'Other_A']\n",
      "\n",
      "Number of null values: 1292\n"
     ]
    }
   ],
   "source": [
    "show_cat_info(df_main_train, 'NAME_TYPE_SUITE')"
   ]
  },
  {
   "cell_type": "code",
   "execution_count": 97,
   "metadata": {},
   "outputs": [
    {
     "data": {
      "text/plain": [
       "0.0042014757195677557"
      ]
     },
     "execution_count": 97,
     "metadata": {},
     "output_type": "execute_result"
    }
   ],
   "source": [
    "df_main_train['NAME_TYPE_SUITE'].isnull().sum()/df_main_train.shape[0]"
   ]
  },
  {
   "cell_type": "code",
   "execution_count": 196,
   "metadata": {},
   "outputs": [],
   "source": [
    "rare_values = get_rare_values(df_main_train, 'NAME_TYPE_SUITE')"
   ]
  },
  {
   "cell_type": "code",
   "execution_count": 197,
   "metadata": {},
   "outputs": [
    {
     "data": {
      "text/plain": [
       "{'Group of people', 'Other_A'}"
      ]
     },
     "execution_count": 197,
     "metadata": {},
     "output_type": "execute_result"
    }
   ],
   "source": [
    "rare_values"
   ]
  },
  {
   "cell_type": "code",
   "execution_count": 201,
   "metadata": {},
   "outputs": [],
   "source": [
    "df_rare_nts = df_main_train[df_main_train['NAME_TYPE_SUITE'].isin(rare_values)]"
   ]
  },
  {
   "cell_type": "code",
   "execution_count": 202,
   "metadata": {},
   "outputs": [
    {
     "data": {
      "image/png": "[encoded data removed]",
      "text/plain": [
       "<Figure size 432x288 with 1 Axes>"
      ]
     },
     "metadata": {},
     "output_type": "display_data"
    }
   ],
   "source": [
    "g = sns.countplot(x='NAME_TYPE_SUITE', hue='TARGET', data=df_main_train)\n",
    "g.set_xticklabels(g.get_xticklabels(), rotation=90);"
   ]
  },
  {
   "cell_type": "code",
   "execution_count": 203,
   "metadata": {},
   "outputs": [
    {
     "data": {
      "image/png": "[encoded data removed]",
      "text/plain": [
       "<Figure size 432x288 with 1 Axes>"
      ]
     },
     "metadata": {},
     "output_type": "display_data"
    }
   ],
   "source": [
    "g = sns.countplot(x='NAME_TYPE_SUITE', hue='TARGET', data=df_rare_nts )\n",
    "g.set_xticklabels(g.get_xticklabels(), rotation=90);"
   ]
  },
  {
   "cell_type": "code",
   "execution_count": 237,
   "metadata": {},
   "outputs": [],
   "source": [
    "categorical_mapper['NAME_TYPE_SUITE'] =  {'fillna': 'none', 'features':{value : 'rare' for value in rare_values}}"
   ]
  },
  {
   "cell_type": "markdown",
   "metadata": {},
   "source": [
    "#### 'NAME_INCOME_TYPE'"
   ]
  },
  {
   "cell_type": "code",
   "execution_count": 330,
   "metadata": {},
   "outputs": [
    {
     "name": "stdout",
     "output_type": "stream",
     "text": [
      "NAME_INCOME_TYPE\n",
      "\n",
      "Value counts, train dataset:\n",
      "\n",
      "Working                 158774\n",
      "Commercial associate     71617\n",
      "Pensioner                55362\n",
      "State servant            21703\n",
      "Unemployed                  22\n",
      "Student                     18\n",
      "Businessman                 10\n",
      "Maternity leave              5\n",
      "Name: NAME_INCOME_TYPE, dtype: int64\n",
      "\n",
      "Count pecentage, train dataset:\n",
      "\n",
      "Working                 0.516320\n",
      "Commercial associate    0.232892\n",
      "Pensioner               0.180033\n",
      "State servant           0.070576\n",
      "Unemployed              0.000072\n",
      "Student                 0.000059\n",
      "Businessman             0.000033\n",
      "Maternity leave         0.000016\n",
      "Name: NAME_INCOME_TYPE, dtype: float64\n",
      "\n",
      "Unique values in test dataset:\n",
      "\n",
      "['Working', 'State servant', 'Pensioner', 'Commercial associate', 'Businessman', 'Student', 'Unemployed']\n",
      "\n",
      "Number of null values: 0\n"
     ]
    }
   ],
   "source": [
    "show_cat_info(df_main_train, 'NAME_INCOME_TYPE')"
   ]
  },
  {
   "cell_type": "code",
   "execution_count": 156,
   "metadata": {},
   "outputs": [],
   "source": [
    "rare_values = get_rare_values(df_main_train, 'NAME_INCOME_TYPE')"
   ]
  },
  {
   "cell_type": "code",
   "execution_count": 188,
   "metadata": {},
   "outputs": [],
   "source": [
    "df_rare_nit = df_main_train[df_main_train['NAME_INCOME_TYPE'].isin(rare_values)]"
   ]
  },
  {
   "cell_type": "code",
   "execution_count": 191,
   "metadata": {},
   "outputs": [
    {
     "data": {
      "image/png": "[encoded data removed]",
      "text/plain": [
       "<Figure size 432x288 with 1 Axes>"
      ]
     },
     "metadata": {},
     "output_type": "display_data"
    }
   ],
   "source": [
    "g = sns.countplot(x='NAME_INCOME_TYPE', hue='TARGET', data=df_main_train)\n",
    "g.set_xticklabels(g.get_xticklabels(), rotation=90);"
   ]
  },
  {
   "cell_type": "code",
   "execution_count": 190,
   "metadata": {},
   "outputs": [
    {
     "data": {
      "image/png": "[encoded data removed]",
      "text/plain": [
       "<Figure size 432x288 with 1 Axes>"
      ]
     },
     "metadata": {},
     "output_type": "display_data"
    }
   ],
   "source": [
    "g = sns.countplot(x='NAME_INCOME_TYPE', hue='TARGET', data=df_rare_nit)\n",
    "g.set_xticklabels(g.get_xticklabels(), rotation=90);"
   ]
  },
  {
   "cell_type": "code",
   "execution_count": 213,
   "metadata": {},
   "outputs": [],
   "source": [
    "categorical_mapper['NAME_INCOME_TYPE'] =  {'fillna': None, 'features':{value : 'rare' for value in rare_values}}"
   ]
  },
  {
   "cell_type": "markdown",
   "metadata": {},
   "source": [
    "#### ????"
   ]
  },
  {
   "cell_type": "markdown",
   "metadata": {},
   "source": [
    "#### 'NAME_EDUCATION_TYPE'"
   ]
  },
  {
   "cell_type": "code",
   "execution_count": 331,
   "metadata": {},
   "outputs": [
    {
     "name": "stdout",
     "output_type": "stream",
     "text": [
      "NAME_EDUCATION_TYPE\n",
      "\n",
      "Value counts, train dataset:\n",
      "\n",
      "Secondary / secondary special    218391\n",
      "Higher education                  74863\n",
      "Incomplete higher                 10277\n",
      "Lower secondary                    3816\n",
      "Academic degree                     164\n",
      "Name: NAME_EDUCATION_TYPE, dtype: int64\n",
      "\n",
      "Count pecentage, train dataset:\n",
      "\n",
      "Secondary / secondary special    0.710189\n",
      "Higher education                 0.243448\n",
      "Incomplete higher                0.033420\n",
      "Lower secondary                  0.012409\n",
      "Academic degree                  0.000533\n",
      "Name: NAME_EDUCATION_TYPE, dtype: float64\n",
      "\n",
      "Unique values in test dataset:\n",
      "\n",
      "['Higher education', 'Secondary / secondary special', 'Incomplete higher', 'Lower secondary', 'Academic degree']\n",
      "\n",
      "Number of null values: 0\n"
     ]
    }
   ],
   "source": [
    "show_cat_info(df_main_train, 'NAME_EDUCATION_TYPE')"
   ]
  },
  {
   "cell_type": "code",
   "execution_count": 210,
   "metadata": {},
   "outputs": [
    {
     "data": {
      "image/png": "[encoded data removed]",
      "text/plain": [
       "<Figure size 432x288 with 1 Axes>"
      ]
     },
     "metadata": {},
     "output_type": "display_data"
    }
   ],
   "source": [
    "g = sns.countplot(x='NAME_EDUCATION_TYPE', hue='TARGET', data=df_main_train)\n",
    "g.set_xticklabels(g.get_xticklabels(), rotation=90);"
   ]
  },
  {
   "cell_type": "code",
   "execution_count": 212,
   "metadata": {},
   "outputs": [],
   "source": [
    "categorical_mapper['NAME_EDUCATION_TYPE'] =  {'fillna': None, 'features': None}"
   ]
  },
  {
   "cell_type": "markdown",
   "metadata": {},
   "source": [
    "#### 'NAME_FAMILY_STATUS'"
   ]
  },
  {
   "cell_type": "code",
   "execution_count": 332,
   "metadata": {},
   "outputs": [
    {
     "name": "stdout",
     "output_type": "stream",
     "text": [
      "NAME_FAMILY_STATUS\n",
      "\n",
      "Value counts, train dataset:\n",
      "\n",
      "Married                 196432\n",
      "Single / not married     45444\n",
      "Civil marriage           29775\n",
      "Separated                19770\n",
      "Widow                    16088\n",
      "Unknown                      2\n",
      "Name: NAME_FAMILY_STATUS, dtype: int64\n",
      "\n",
      "Count pecentage, train dataset:\n",
      "\n",
      "Married                 0.638780\n",
      "Single / not married    0.147780\n",
      "Civil marriage          0.096826\n",
      "Separated               0.064290\n",
      "Widow                   0.052317\n",
      "Unknown                 0.000007\n",
      "Name: NAME_FAMILY_STATUS, dtype: float64\n",
      "\n",
      "Unique values in test dataset:\n",
      "\n",
      "['Married', 'Single / not married', 'Civil marriage', 'Widow', 'Separated']\n",
      "\n",
      "Number of null values: 0\n"
     ]
    }
   ],
   "source": [
    "show_cat_info(df_main_train, 'NAME_FAMILY_STATUS')"
   ]
  },
  {
   "cell_type": "code",
   "execution_count": 219,
   "metadata": {},
   "outputs": [
    {
     "data": {
      "image/png": "[encoded data removed]",
      "text/plain": [
       "<Figure size 432x288 with 1 Axes>"
      ]
     },
     "metadata": {},
     "output_type": "display_data"
    }
   ],
   "source": [
    "g = sns.countplot(x='NAME_FAMILY_STATUS', hue='TARGET', data=df_main_train)\n",
    "g.set_xticklabels(g.get_xticklabels(), rotation=90);"
   ]
  },
  {
   "cell_type": "code",
   "execution_count": 222,
   "metadata": {},
   "outputs": [],
   "source": [
    "# 'Unknown' chages to majoi 'Married'\n",
    "categorical_mapper['NAME_FAMILY_STATUS'] =  {'fillna': None, 'features': {'Unknown' : 'Married'}}"
   ]
  },
  {
   "cell_type": "markdown",
   "metadata": {},
   "source": [
    "#### 'NAME_HOUSING_TYPE'"
   ]
  },
  {
   "cell_type": "code",
   "execution_count": 333,
   "metadata": {},
   "outputs": [
    {
     "name": "stdout",
     "output_type": "stream",
     "text": [
      "NAME_HOUSING_TYPE\n",
      "\n",
      "Value counts, train dataset:\n",
      "\n",
      "House / apartment      272868\n",
      "With parents            14840\n",
      "Municipal apartment     11183\n",
      "Rented apartment         4881\n",
      "Office apartment         2617\n",
      "Co-op apartment          1122\n",
      "Name: NAME_HOUSING_TYPE, dtype: int64\n",
      "\n",
      "Count pecentage, train dataset:\n",
      "\n",
      "House / apartment      0.887344\n",
      "With parents           0.048258\n",
      "Municipal apartment    0.036366\n",
      "Rented apartment       0.015873\n",
      "Office apartment       0.008510\n",
      "Co-op apartment        0.003649\n",
      "Name: NAME_HOUSING_TYPE, dtype: float64\n",
      "\n",
      "Unique values in test dataset:\n",
      "\n",
      "['House / apartment', 'With parents', 'Rented apartment', 'Municipal apartment', 'Office apartment', 'Co-op apartment']\n",
      "\n",
      "Number of null values: 0\n"
     ]
    }
   ],
   "source": [
    "show_cat_info(df_main_train, 'NAME_HOUSING_TYPE')"
   ]
  },
  {
   "cell_type": "code",
   "execution_count": 229,
   "metadata": {},
   "outputs": [
    {
     "data": {
      "image/png": "[encoded data removed]",
      "text/plain": [
       "<Figure size 432x288 with 1 Axes>"
      ]
     },
     "metadata": {},
     "output_type": "display_data"
    }
   ],
   "source": [
    "g = sns.countplot(x='NAME_HOUSING_TYPE', hue='TARGET', data=df_main_train)\n",
    "g.set_xticklabels(g.get_xticklabels(), rotation=90);"
   ]
  },
  {
   "cell_type": "code",
   "execution_count": 230,
   "metadata": {},
   "outputs": [],
   "source": [
    "df_rare_nht = df_main_train[df_main_train['NAME_HOUSING_TYPE'].isin(['Rented apartment', 'Office apartment', 'Co-op apartment'])]"
   ]
  },
  {
   "cell_type": "code",
   "execution_count": 232,
   "metadata": {},
   "outputs": [
    {
     "data": {
      "image/png": "[encoded data removed]",
      "text/plain": [
       "<Figure size 432x288 with 1 Axes>"
      ]
     },
     "metadata": {},
     "output_type": "display_data"
    }
   ],
   "source": [
    "g = sns.countplot(x='NAME_HOUSING_TYPE', hue='TARGET', data=df_rare_nht)\n",
    "g.set_xticklabels(g.get_xticklabels(), rotation=90);"
   ]
  },
  {
   "cell_type": "code",
   "execution_count": 233,
   "metadata": {},
   "outputs": [],
   "source": [
    "categorical_mapper['NAME_HOUSING_TYPE'] =  {'fillna': None, 'features': None}"
   ]
  },
  {
   "cell_type": "markdown",
   "metadata": {},
   "source": [
    "#### 'OCCUPATION_TYPE'"
   ]
  },
  {
   "cell_type": "code",
   "execution_count": 334,
   "metadata": {},
   "outputs": [
    {
     "name": "stdout",
     "output_type": "stream",
     "text": [
      "OCCUPATION_TYPE\n",
      "\n",
      "Value counts, train dataset:\n",
      "\n",
      "Laborers                 55186\n",
      "Sales staff              32102\n",
      "Core staff               27570\n",
      "Managers                 21371\n",
      "Drivers                  18603\n",
      "High skill tech staff    11380\n",
      "Accountants               9813\n",
      "Medicine staff            8537\n",
      "Security staff            6721\n",
      "Cooking staff             5946\n",
      "Cleaning staff            4653\n",
      "Private service staff     2652\n",
      "Low-skill Laborers        2093\n",
      "Waiters/barmen staff      1348\n",
      "Secretaries               1305\n",
      "Realty agents              751\n",
      "HR staff                   563\n",
      "IT staff                   526\n",
      "Name: OCCUPATION_TYPE, dtype: int64\n",
      "\n",
      "Count pecentage, train dataset:\n",
      "\n",
      "Laborers                 0.179460\n",
      "Sales staff              0.104393\n",
      "Core staff               0.089655\n",
      "Managers                 0.069497\n",
      "Drivers                  0.060495\n",
      "High skill tech staff    0.037007\n",
      "Accountants              0.031911\n",
      "Medicine staff           0.027762\n",
      "Security staff           0.021856\n",
      "Cooking staff            0.019336\n",
      "Cleaning staff           0.015131\n",
      "Private service staff    0.008624\n",
      "Low-skill Laborers       0.006806\n",
      "Waiters/barmen staff     0.004384\n",
      "Secretaries              0.004244\n",
      "Realty agents            0.002442\n",
      "HR staff                 0.001831\n",
      "IT staff                 0.001711\n",
      "Name: OCCUPATION_TYPE, dtype: float64\n",
      "\n",
      "Unique values in test dataset:\n",
      "\n",
      "[nan, 'Low-skill Laborers', 'Drivers', 'Sales staff', 'High skill tech staff', 'Core staff', 'Laborers', 'Managers', 'Accountants', 'Medicine staff', 'Security staff', 'Private service staff', 'Secretaries', 'Cleaning staff', 'Cooking staff', 'HR staff', 'Waiters/barmen staff', 'Realty agents', 'IT staff']\n",
      "\n",
      "Number of null values: 96391\n"
     ]
    }
   ],
   "source": [
    "show_cat_info(df_main_train, 'OCCUPATION_TYPE')"
   ]
  },
  {
   "cell_type": "code",
   "execution_count": 243,
   "metadata": {},
   "outputs": [
    {
     "data": {
      "image/png": "[encoded data removed]",
      "text/plain": [
       "<Figure size 432x288 with 1 Axes>"
      ]
     },
     "metadata": {},
     "output_type": "display_data"
    }
   ],
   "source": [
    "g = sns.countplot(x='OCCUPATION_TYPE', hue='TARGET', data=df_main_train)\n",
    "g.set_xticklabels(g.get_xticklabels(), rotation=90);"
   ]
  },
  {
   "cell_type": "code",
   "execution_count": 244,
   "metadata": {},
   "outputs": [],
   "source": [
    "rare_values_ot = get_rare_values(df_main_train, 'OCCUPATION_TYPE')"
   ]
  },
  {
   "cell_type": "code",
   "execution_count": 245,
   "metadata": {},
   "outputs": [],
   "source": [
    "df_rare_ot = df_main_train[df_main_train['OCCUPATION_TYPE'].isin(rare_values_ot)]"
   ]
  },
  {
   "cell_type": "code",
   "execution_count": 260,
   "metadata": {},
   "outputs": [
    {
     "data": {
      "image/png": "[encoded data removed]",
      "text/plain": [
       "<Figure size 432x288 with 1 Axes>"
      ]
     },
     "metadata": {},
     "output_type": "display_data"
    }
   ],
   "source": [
    "g = sns.countplot(x='OCCUPATION_TYPE', hue='TARGET', data=df_rare_ot)\n",
    "g.set_xticklabels(g.get_xticklabels(), rotation=90);"
   ]
  },
  {
   "cell_type": "code",
   "execution_count": 280,
   "metadata": {},
   "outputs": [
    {
     "data": {
      "text/plain": [
       "OCCUPATION_TYPE\n",
       "Accountants              0.048303\n",
       "Cleaning staff           0.096067\n",
       "Cooking staff            0.104440\n",
       "Core staff               0.063040\n",
       "Drivers                  0.113261\n",
       "HR staff                 0.063943\n",
       "High skill tech staff    0.061599\n",
       "IT staff                 0.064639\n",
       "Laborers                 0.105788\n",
       "Low-skill Laborers       0.171524\n",
       "Managers                 0.062140\n",
       "Medicine staff           0.067002\n",
       "Private service staff    0.065988\n",
       "Realty agents            0.078562\n",
       "Sales staff              0.096318\n",
       "Secretaries              0.070498\n",
       "Security staff           0.107424\n",
       "Waiters/barmen staff     0.112760\n",
       "Name: TARGET, dtype: float64"
      ]
     },
     "execution_count": 280,
     "metadata": {},
     "output_type": "execute_result"
    }
   ],
   "source": [
    "group_ot = df_main_train.groupby(df_main_train['OCCUPATION_TYPE']).sum()['TARGET']\n",
    "group_ot/ df_main_train.groupby(df_main_train['OCCUPATION_TYPE']).count()['TARGET']"
   ]
  },
  {
   "cell_type": "code",
   "execution_count": 289,
   "metadata": {},
   "outputs": [],
   "source": [
    "categorical_mapper['OCCUPATION_TYPE'] =  {'fillna': 'none', 'features': None}"
   ]
  },
  {
   "cell_type": "markdown",
   "metadata": {},
   "source": [
    "#### 'WEEKDAY_APPR_PROCESS_START'"
   ]
  },
  {
   "cell_type": "code",
   "execution_count": 336,
   "metadata": {},
   "outputs": [
    {
     "name": "stdout",
     "output_type": "stream",
     "text": [
      "WEEKDAY_APPR_PROCESS_START\n",
      "\n",
      "Value counts, train dataset:\n",
      "\n",
      "TUESDAY      53901\n",
      "WEDNESDAY    51934\n",
      "MONDAY       50714\n",
      "THURSDAY     50591\n",
      "FRIDAY       50338\n",
      "SATURDAY     33852\n",
      "SUNDAY       16181\n",
      "Name: WEEKDAY_APPR_PROCESS_START, dtype: int64\n",
      "\n",
      "Count pecentage, train dataset:\n",
      "\n",
      "TUESDAY      0.175282\n",
      "WEDNESDAY    0.168885\n",
      "MONDAY       0.164918\n",
      "THURSDAY     0.164518\n",
      "FRIDAY       0.163695\n",
      "SATURDAY     0.110084\n",
      "SUNDAY       0.052619\n",
      "Name: WEEKDAY_APPR_PROCESS_START, dtype: float64\n",
      "\n",
      "Unique values in test dataset:\n",
      "\n",
      "['TUESDAY', 'FRIDAY', 'MONDAY', 'WEDNESDAY', 'THURSDAY', 'SATURDAY', 'SUNDAY']\n",
      "\n",
      "Number of null values: 0\n"
     ]
    }
   ],
   "source": [
    "show_cat_info(df_main_train, 'WEEKDAY_APPR_PROCESS_START')"
   ]
  },
  {
   "cell_type": "code",
   "execution_count": 285,
   "metadata": {},
   "outputs": [
    {
     "data": {
      "text/plain": [
       "TUESDAY      0.175282\n",
       "WEDNESDAY    0.168885\n",
       "MONDAY       0.164918\n",
       "THURSDAY     0.164518\n",
       "FRIDAY       0.163695\n",
       "SATURDAY     0.110084\n",
       "SUNDAY       0.052619\n",
       "Name: WEEKDAY_APPR_PROCESS_START, dtype: float64"
      ]
     },
     "execution_count": 285,
     "metadata": {},
     "output_type": "execute_result"
    }
   ],
   "source": [
    "df_main_train['WEEKDAY_APPR_PROCESS_START'].value_counts()/df_main_train.shape[0]"
   ]
  },
  {
   "cell_type": "code",
   "execution_count": 286,
   "metadata": {},
   "outputs": [
    {
     "data": {
      "image/png": "[encoded data removed]",
      "text/plain": [
       "<Figure size 432x288 with 1 Axes>"
      ]
     },
     "metadata": {},
     "output_type": "display_data"
    }
   ],
   "source": [
    "g = sns.countplot(x='WEEKDAY_APPR_PROCESS_START', hue='TARGET', data=df_main_train)\n",
    "g.set_xticklabels(g.get_xticklabels(), rotation=90);"
   ]
  },
  {
   "cell_type": "code",
   "execution_count": 288,
   "metadata": {},
   "outputs": [],
   "source": [
    "categorical_mapper['WEEKDAY_APPR_PROCESS_START'] =  {'fillna': None, 'features': None}"
   ]
  },
  {
   "cell_type": "markdown",
   "metadata": {},
   "source": [
    "#### 'ORGANIZATION_TYPE'"
   ]
  },
  {
   "cell_type": "code",
   "execution_count": 337,
   "metadata": {},
   "outputs": [
    {
     "name": "stdout",
     "output_type": "stream",
     "text": [
      "ORGANIZATION_TYPE\n",
      "\n",
      "Value counts, train dataset:\n",
      "\n",
      "Business Entity Type 3    67992\n",
      "XNA                       55374\n",
      "Self-employed             38412\n",
      "Other                     16683\n",
      "Medicine                  11193\n",
      "Business Entity Type 2    10553\n",
      "Government                10404\n",
      "School                     8893\n",
      "Trade: type 7              7831\n",
      "Kindergarten               6880\n",
      "Construction               6721\n",
      "Business Entity Type 1     5984\n",
      "Transport: type 4          5398\n",
      "Trade: type 3              3492\n",
      "Industry: type 9           3368\n",
      "Industry: type 3           3278\n",
      "Security                   3247\n",
      "Housing                    2958\n",
      "Industry: type 11          2704\n",
      "Military                   2634\n",
      "Bank                       2507\n",
      "Agriculture                2454\n",
      "Police                     2341\n",
      "Transport: type 2          2204\n",
      "Postal                     2157\n",
      "Security Ministries        1974\n",
      "Trade: type 2              1900\n",
      "Restaurant                 1811\n",
      "Services                   1575\n",
      "University                 1327\n",
      "Industry: type 7           1307\n",
      "Transport: type 3          1187\n",
      "Industry: type 1           1039\n",
      "Hotel                       966\n",
      "Electricity                 950\n",
      "Industry: type 4            877\n",
      "Trade: type 6               631\n",
      "Industry: type 5            599\n",
      "Insurance                   597\n",
      "Telecom                     577\n",
      "Emergency                   560\n",
      "Industry: type 2            458\n",
      "Advertising                 429\n",
      "Realtor                     396\n",
      "Culture                     379\n",
      "Industry: type 12           369\n",
      "Trade: type 1               348\n",
      "Mobile                      317\n",
      "Legal Services              305\n",
      "Cleaning                    260\n",
      "Transport: type 1           201\n",
      "Industry: type 6            112\n",
      "Industry: type 10           109\n",
      "Religion                     85\n",
      "Industry: type 13            67\n",
      "Trade: type 4                64\n",
      "Trade: type 5                49\n",
      "Industry: type 8             24\n",
      "Name: ORGANIZATION_TYPE, dtype: int64\n",
      "\n",
      "Count pecentage, train dataset:\n",
      "\n",
      "Business Entity Type 3    0.221104\n",
      "XNA                       0.180072\n",
      "Self-employed             0.124913\n",
      "Other                     0.054252\n",
      "Medicine                  0.036399\n",
      "Business Entity Type 2    0.034317\n",
      "Government                0.033833\n",
      "School                    0.028919\n",
      "Trade: type 7             0.025466\n",
      "Kindergarten              0.022373\n",
      "Construction              0.021856\n",
      "Business Entity Type 1    0.019459\n",
      "Transport: type 4         0.017554\n",
      "Trade: type 3             0.011356\n",
      "Industry: type 9          0.010952\n",
      "Industry: type 3          0.010660\n",
      "Security                  0.010559\n",
      "Housing                   0.009619\n",
      "Industry: type 11         0.008793\n",
      "Military                  0.008566\n",
      "Bank                      0.008153\n",
      "Agriculture               0.007980\n",
      "Police                    0.007613\n",
      "Transport: type 2         0.007167\n",
      "Postal                    0.007014\n",
      "Security Ministries       0.006419\n",
      "Trade: type 2             0.006179\n",
      "Restaurant                0.005889\n",
      "Services                  0.005122\n",
      "University                0.004315\n",
      "Industry: type 7          0.004250\n",
      "Transport: type 3         0.003860\n",
      "Industry: type 1          0.003379\n",
      "Hotel                     0.003141\n",
      "Electricity               0.003089\n",
      "Industry: type 4          0.002852\n",
      "Trade: type 6             0.002052\n",
      "Industry: type 5          0.001948\n",
      "Insurance                 0.001941\n",
      "Telecom                   0.001876\n",
      "Emergency                 0.001821\n",
      "Industry: type 2          0.001489\n",
      "Advertising               0.001395\n",
      "Realtor                   0.001288\n",
      "Culture                   0.001232\n",
      "Industry: type 12         0.001200\n",
      "Trade: type 1             0.001132\n",
      "Mobile                    0.001031\n",
      "Legal Services            0.000992\n",
      "Cleaning                  0.000845\n",
      "Transport: type 1         0.000654\n",
      "Industry: type 6          0.000364\n",
      "Industry: type 10         0.000354\n",
      "Religion                  0.000276\n",
      "Industry: type 13         0.000218\n",
      "Trade: type 4             0.000208\n",
      "Trade: type 5             0.000159\n",
      "Industry: type 8          0.000078\n",
      "Name: ORGANIZATION_TYPE, dtype: float64\n",
      "\n",
      "Unique values in test dataset:\n",
      "\n",
      "['Kindergarten', 'Self-employed', 'Transport: type 3', 'Business Entity Type 3', 'Government', 'Industry: type 9', 'School', 'Trade: type 2', 'XNA', 'Services', 'Bank', 'Industry: type 3', 'Other', 'Trade: type 6', 'Industry: type 12', 'Trade: type 7', 'Postal', 'Medicine', 'Housing', 'Business Entity Type 2', 'Construction', 'Military', 'Industry: type 4', 'Trade: type 3', 'Legal Services', 'Security', 'Industry: type 11', 'University', 'Business Entity Type 1', 'Agriculture', 'Security Ministries', 'Transport: type 2', 'Industry: type 7', 'Transport: type 4', 'Telecom', 'Emergency', 'Police', 'Industry: type 1', 'Transport: type 1', 'Electricity', 'Industry: type 5', 'Hotel', 'Restaurant', 'Advertising', 'Mobile', 'Trade: type 1', 'Industry: type 8', 'Realtor', 'Cleaning', 'Industry: type 2', 'Trade: type 4', 'Industry: type 6', 'Culture', 'Insurance', 'Religion', 'Industry: type 13', 'Industry: type 10', 'Trade: type 5']\n",
      "\n",
      "Number of null values: 0\n"
     ]
    }
   ],
   "source": [
    "show_cat_info(df_main_train, 'ORGANIZATION_TYPE')"
   ]
  },
  {
   "cell_type": "code",
   "execution_count": 291,
   "metadata": {},
   "outputs": [
    {
     "data": {
      "text/plain": [
       "0"
      ]
     },
     "execution_count": 291,
     "metadata": {},
     "output_type": "execute_result"
    }
   ],
   "source": [
    "df_main_train['ORGANIZATION_TYPE'].isnull().sum()"
   ]
  },
  {
   "cell_type": "code",
   "execution_count": 292,
   "metadata": {},
   "outputs": [
    {
     "data": {
      "text/plain": [
       "['Kindergarten',\n",
       " 'Self-employed',\n",
       " 'Transport: type 3',\n",
       " 'Business Entity Type 3',\n",
       " 'Government',\n",
       " 'Industry: type 9',\n",
       " 'School',\n",
       " 'Trade: type 2',\n",
       " 'XNA',\n",
       " 'Services',\n",
       " 'Bank',\n",
       " 'Industry: type 3',\n",
       " 'Other',\n",
       " 'Trade: type 6',\n",
       " 'Industry: type 12',\n",
       " 'Trade: type 7',\n",
       " 'Postal',\n",
       " 'Medicine',\n",
       " 'Housing',\n",
       " 'Business Entity Type 2',\n",
       " 'Construction',\n",
       " 'Military',\n",
       " 'Industry: type 4',\n",
       " 'Trade: type 3',\n",
       " 'Legal Services',\n",
       " 'Security',\n",
       " 'Industry: type 11',\n",
       " 'University',\n",
       " 'Business Entity Type 1',\n",
       " 'Agriculture',\n",
       " 'Security Ministries',\n",
       " 'Transport: type 2',\n",
       " 'Industry: type 7',\n",
       " 'Transport: type 4',\n",
       " 'Telecom',\n",
       " 'Emergency',\n",
       " 'Police',\n",
       " 'Industry: type 1',\n",
       " 'Transport: type 1',\n",
       " 'Electricity',\n",
       " 'Industry: type 5',\n",
       " 'Hotel',\n",
       " 'Restaurant',\n",
       " 'Advertising',\n",
       " 'Mobile',\n",
       " 'Trade: type 1',\n",
       " 'Industry: type 8',\n",
       " 'Realtor',\n",
       " 'Cleaning',\n",
       " 'Industry: type 2',\n",
       " 'Trade: type 4',\n",
       " 'Industry: type 6',\n",
       " 'Culture',\n",
       " 'Insurance',\n",
       " 'Religion',\n",
       " 'Industry: type 13',\n",
       " 'Industry: type 10',\n",
       " 'Trade: type 5']"
      ]
     },
     "execution_count": 292,
     "metadata": {},
     "output_type": "execute_result"
    }
   ],
   "source": [
    "list(df_main_test['ORGANIZATION_TYPE'].unique())"
   ]
  },
  {
   "cell_type": "code",
   "execution_count": 293,
   "metadata": {},
   "outputs": [
    {
     "data": {
      "text/plain": [
       "Business Entity Type 3    0.221104\n",
       "XNA                       0.180072\n",
       "Self-employed             0.124913\n",
       "Other                     0.054252\n",
       "Medicine                  0.036399\n",
       "Business Entity Type 2    0.034317\n",
       "Government                0.033833\n",
       "School                    0.028919\n",
       "Trade: type 7             0.025466\n",
       "Kindergarten              0.022373\n",
       "Construction              0.021856\n",
       "Business Entity Type 1    0.019459\n",
       "Transport: type 4         0.017554\n",
       "Trade: type 3             0.011356\n",
       "Industry: type 9          0.010952\n",
       "Industry: type 3          0.010660\n",
       "Security                  0.010559\n",
       "Housing                   0.009619\n",
       "Industry: type 11         0.008793\n",
       "Military                  0.008566\n",
       "Bank                      0.008153\n",
       "Agriculture               0.007980\n",
       "Police                    0.007613\n",
       "Transport: type 2         0.007167\n",
       "Postal                    0.007014\n",
       "Security Ministries       0.006419\n",
       "Trade: type 2             0.006179\n",
       "Restaurant                0.005889\n",
       "Services                  0.005122\n",
       "University                0.004315\n",
       "Industry: type 7          0.004250\n",
       "Transport: type 3         0.003860\n",
       "Industry: type 1          0.003379\n",
       "Hotel                     0.003141\n",
       "Electricity               0.003089\n",
       "Industry: type 4          0.002852\n",
       "Trade: type 6             0.002052\n",
       "Industry: type 5          0.001948\n",
       "Insurance                 0.001941\n",
       "Telecom                   0.001876\n",
       "Emergency                 0.001821\n",
       "Industry: type 2          0.001489\n",
       "Advertising               0.001395\n",
       "Realtor                   0.001288\n",
       "Culture                   0.001232\n",
       "Industry: type 12         0.001200\n",
       "Trade: type 1             0.001132\n",
       "Mobile                    0.001031\n",
       "Legal Services            0.000992\n",
       "Cleaning                  0.000845\n",
       "Transport: type 1         0.000654\n",
       "Industry: type 6          0.000364\n",
       "Industry: type 10         0.000354\n",
       "Religion                  0.000276\n",
       "Industry: type 13         0.000218\n",
       "Trade: type 4             0.000208\n",
       "Trade: type 5             0.000159\n",
       "Industry: type 8          0.000078\n",
       "Name: ORGANIZATION_TYPE, dtype: float64"
      ]
     },
     "execution_count": 293,
     "metadata": {},
     "output_type": "execute_result"
    }
   ],
   "source": [
    "df_main_train['ORGANIZATION_TYPE'].value_counts()/df_main_train.shape[0]"
   ]
  },
  {
   "cell_type": "code",
   "execution_count": 301,
   "metadata": {},
   "outputs": [
    {
     "data": {
      "image/png": "[encoded data removed]",
      "text/plain": [
       "<Figure size 1440x720 with 1 Axes>"
      ]
     },
     "metadata": {},
     "output_type": "display_data"
    }
   ],
   "source": [
    "plt.subplots(figsize=(20,10))\n",
    "g = sns.countplot(x='ORGANIZATION_TYPE', hue='TARGET', data=df_main_train, order = sorted(df_main_train['ORGANIZATION_TYPE'].unique()))\n",
    "\n",
    "g.set_xticklabels(g.get_xticklabels(), rotation=90);"
   ]
  },
  {
   "cell_type": "code",
   "execution_count": 302,
   "metadata": {},
   "outputs": [
    {
     "data": {
      "text/plain": [
       "ORGANIZATION_TYPE\n",
       "Advertising               0.081585\n",
       "Agriculture               0.104727\n",
       "Bank                      0.051855\n",
       "Business Entity Type 1    0.081384\n",
       "Business Entity Type 2    0.085284\n",
       "Business Entity Type 3    0.092996\n",
       "Cleaning                  0.111538\n",
       "Construction              0.116798\n",
       "Culture                   0.055409\n",
       "Electricity               0.066316\n",
       "Emergency                 0.071429\n",
       "Government                0.069781\n",
       "Hotel                     0.064182\n",
       "Housing                   0.079446\n",
       "Industry: type 1          0.110683\n",
       "Industry: type 10         0.064220\n",
       "Industry: type 11         0.086538\n",
       "Industry: type 12         0.037940\n",
       "Industry: type 13         0.134328\n",
       "Industry: type 2          0.072052\n",
       "Industry: type 3          0.106162\n",
       "Industry: type 4          0.101482\n",
       "Industry: type 5          0.068447\n",
       "Industry: type 6          0.071429\n",
       "Industry: type 7          0.080337\n",
       "Industry: type 8          0.125000\n",
       "Industry: type 9          0.066805\n",
       "Insurance                 0.056951\n",
       "Kindergarten              0.070349\n",
       "Legal Services            0.078689\n",
       "Medicine                  0.065845\n",
       "Military                  0.051253\n",
       "Mobile                    0.091483\n",
       "Other                     0.076425\n",
       "Police                    0.049979\n",
       "Postal                    0.084376\n",
       "Realtor                   0.106061\n",
       "Religion                  0.058824\n",
       "Restaurant                0.117062\n",
       "School                    0.059148\n",
       "Security                  0.099784\n",
       "Security Ministries       0.048632\n",
       "Self-employed             0.101739\n",
       "Services                  0.066032\n",
       "Telecom                   0.076256\n",
       "Trade: type 1             0.089080\n",
       "Trade: type 2             0.070000\n",
       "Trade: type 3             0.103379\n",
       "Trade: type 4             0.031250\n",
       "Trade: type 5             0.061224\n",
       "Trade: type 6             0.045959\n",
       "Trade: type 7             0.094496\n",
       "Transport: type 1         0.044776\n",
       "Transport: type 2         0.078040\n",
       "Transport: type 3         0.157540\n",
       "Transport: type 4         0.092812\n",
       "University                0.048983\n",
       "XNA                       0.053996\n",
       "Name: TARGET, dtype: float64"
      ]
     },
     "execution_count": 302,
     "metadata": {},
     "output_type": "execute_result"
    }
   ],
   "source": [
    "group_orgt = df_main_train.groupby(df_main_train['ORGANIZATION_TYPE']).sum()['TARGET']\n",
    "group_orgt/ df_main_train.groupby(df_main_train['ORGANIZATION_TYPE']).count()['TARGET']"
   ]
  },
  {
   "cell_type": "code",
   "execution_count": null,
   "metadata": {},
   "outputs": [],
   "source": []
  }
 ],
 "metadata": {
  "kernelspec": {
   "display_name": "Python 3",
   "language": "python",
   "name": "python3"
  },
  "language_info": {
   "codemirror_mode": {
    "name": "ipython",
    "version": 3
   },
   "file_extension": ".py",
   "mimetype": "text/x-python",
   "name": "python",
   "nbconvert_exporter": "python",
   "pygments_lexer": "ipython3",
   "version": "3.6.3"
  }
 },
 "nbformat": 4,
 "nbformat_minor": 2
}
